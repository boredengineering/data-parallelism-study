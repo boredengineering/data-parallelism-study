{
 "cells": [
  {
   "cell_type": "markdown",
   "metadata": {},
   "source": [
    "<img src=\"./images/DLI_Header.png\">"
   ]
  },
  {
   "cell_type": "markdown",
   "metadata": {},
   "source": [
    "# Scaling your Deep Learning Training\n",
    "\n",
    "Welcome to the third lab of the course. So far, you've learned about stochastic gradient descent and the effects of batch size on training. You've also learned how to scale training from a single GPU to multiple GPUs. You should have seen a considerable speedup that we'll be measuring in more detail.\n",
    "\n",
    "You've seen that as we scale to multiple GPUs, we effectively increase the batch size. From our testing in lab one, we know that increasing the batch size can increase throughput, but it can also affect a network's ability to train effectively. In this lab, you'll be exploring how training is affected when scaling to multiple GPUs. We will start with measuring the effect of multiple GPUs on throughput, in our case images per second. You'll then go on to learn tools and techniques that can help to maintain high accuracy as you scale."
   ]
  },
  {
   "cell_type": "markdown",
   "metadata": {},
   "source": [
    "## Scaling of Performance: Images/Second \n",
    "\n",
    "In the first lab, you evaluated images/second as a measurement of performance of the training. We saw that throughput increased with batch size, but only to a certain point. As the batch size increased to saturate the GPU memory, we saw diminishing returns. Now that we are scaling to multiple GPUs, it would make sense that our throughput would increase once again. How do you think throughput will scale with respect to the number of GPUs used in the training?\n",
    "\n",
    "As in Lab 1, we have a callback that measures throughput in images/second after each epoch. Run the cell below __on one GPU__ and record the throughput in the code cell down below. As you might recall from Lab 1, throughput in the first epoch should be ignored because we are paying one-time costs, so choose a throughput from the second or third epoch."
   ]
  },
  {
   "cell_type": "code",
   "execution_count": null,
   "metadata": {
    "scrolled": true
   },
   "outputs": [],
   "source": [
    "!python3 fashion_mnist.py --epochs 3 --num-gpus FIXME --batch-size 128"
   ]
  },
  {
   "cell_type": "markdown",
   "metadata": {},
   "source": [
    "Next, alter the training to run __on all GPUs__. You may notice that throughput will fluctuate between epochs. Pick a throughput value that seems closest to the average, or feel free to calculate the average of a few epochs. Remember not to include the first epoch's value."
   ]
  },
  {
   "cell_type": "code",
   "execution_count": null,
   "metadata": {
    "scrolled": true
   },
   "outputs": [],
   "source": [
    "!python3 fashion_mnist.py --epochs 5 --num-gpus FIXME --batch-size 128"
   ]
  },
  {
   "cell_type": "markdown",
   "metadata": {},
   "source": [
    "Record the values you obtained in the cell below, and then execute it to see the scaling ratio. Think about the number you get for a minute, and reflect on why, then reveal the block below by clicking on the three dots to see a commentary on the observed results."
   ]
  },
  {
   "cell_type": "code",
   "execution_count": null,
   "metadata": {},
   "outputs": [],
   "source": [
    "one_gpu_throughput = FIXME\n",
    "multi_gpu_throughput = FIXME\n",
    "\n",
    "print(\"Multi GPU speedup factor: {}\".format(multi_gpu_throughput/one_gpu_throughput))"
   ]
  },
  {
   "cell_type": "markdown",
   "metadata": {
    "tags": []
   },
   "source": [
    "You should see scaling at nearly a linear rate. This is a much more promising result than the scaling we saw in Lab 1 when increasing batch size. It stands to reason that each GPU would add a significant boost to the training process. \n",
    "\n",
    "We don't get perfectly linear scaling. A significant component of this is due to communication between the GPUs when updating weights. There can also be other factors, such as waiting for slower GPUs to finish processing before the weights are averaged. But still, this is pretty good.\n",
    "\n",
    "Production DL training at scale is usually benchmarked against the ideal case of linear scaling (N GPUs should be N times faster than 1 GPU). DDP, and the NCCL library, do a good job of maintaining high throughput, but it's worth mentioning that performance is also intricately tied to the hardware in use.\n",
    "\n",
    "As you scale to more GPUs, multi-node training is required, and further hardware considerations are needed to effectively scale."
   ]
  },
  {
   "cell_type": "markdown",
   "metadata": {},
   "source": [
    "## Comparing Validation Accuracy Over Time\n",
    "\n",
    "As with the first lab, throughput is just one way of measuring performance. It's important to evaluate the training of the network, specifically its ability to effectively make predictions. To show clear comparisons between different trainings, we'll be plotting the validation accuracy of the network over time.\n",
    "\n",
    "To accomplish this you will be saving off validation accuracy, as well as the total elapsed time after each epoch. Each training will create a CSV file, which will be used to plot the trainings against each other. We provide you with a script to plot the training sessions below. "
   ]
  },
  {
   "cell_type": "markdown",
   "metadata": {},
   "source": [
    "### Implementing the Functionality\n",
    "\n",
    "First, let's make a copy of the training script in case you need it as a reference."
   ]
  },
  {
   "cell_type": "code",
   "execution_count": null,
   "metadata": {},
   "outputs": [],
   "source": [
    "!cp fashion_mnist.py fashion_mnist_original.py"
   ]
  },
  {
   "cell_type": "markdown",
   "metadata": {},
   "source": [
    "Next, take a look at the two functions in `functions/save_training_data.py`. Follow the steps in `TODO: save data` of `fashion_mnist.py` to appropriately use these functions. You'll need to pass the functions a name for the CSV file, which will be made up of the hyperparameters that you use in your training. If you have trouble and need help, you can find the solution at `solutions/save_training_data.py`. "
   ]
  },
  {
   "cell_type": "markdown",
   "metadata": {},
   "source": [
    "### Running a Training Session\n",
    "\n",
    "After you've implemented the callback, try training on multiple GPUs. We suggest stopping after a certain amount of time (100-200 seconds). You can do this by clicking the stop button in the top bar (or, Kernel > Interrupt in the menu). You can also use the `--target-accuracy` and `--patience` arguments to stop training as you did in Lab 1. The CSV file will save correctly even if you end the training early. "
   ]
  },
  {
   "cell_type": "code",
   "execution_count": null,
   "metadata": {},
   "outputs": [],
   "source": [
    "# Add the training_data folder\n",
    "!mkdir training_data"
   ]
  },
  {
   "cell_type": "code",
   "execution_count": null,
   "metadata": {
    "scrolled": true
   },
   "outputs": [],
   "source": [
    "!python3 fashion_mnist.py --num-gpus FIXME --batch-size 32"
   ]
  },
  {
   "cell_type": "markdown",
   "metadata": {},
   "source": [
    "### Plotting the Data\n",
    "\n",
    "If the callback worked, you should have a CSV file with the data in the `training_data` folder. Feel free to navigate to it in the file browser in the pane on the left, where you can open the file. Then look over the code in the cell below. It will plot all the CSV files in the `training_data` folder and use the names in the legend to identify each training run. Once you have a sense of the code, execute the cell to plot your training."
   ]
  },
  {
   "cell_type": "code",
   "execution_count": null,
   "metadata": {},
   "outputs": [],
   "source": [
    "%matplotlib widget\n",
    "import os\n",
    "import numpy as np\n",
    "import matplotlib.pyplot as plt\n",
    "\n",
    "# By default we skip the first row, which contains the headers\n",
    "# By skipping 2 rows, you can disregard the first data-point (0,0) to get a closer look\n",
    "def plot_trainings(skiprows=1):\n",
    "    plt.close()\n",
    "    for filename in os.listdir(\"training_data\"):\n",
    "        if filename == \".ipynb_checkpoints\": continue\n",
    "        x, y = np.loadtxt(\"training_data/\" + filename, delimiter=',', unpack=True, skiprows=skiprows)\n",
    "        plt.plot(x,y, label=filename.split('.csv')[0])\n",
    "\n",
    "    plt.xlabel('Time (s)')\n",
    "    plt.ylabel('Validation Accuracy')\n",
    "    plt.title('Training Comparison')\n",
    "    plt.legend()\n",
    "    plt.show()\n",
    "    \n",
    "plot_trainings()"
   ]
  },
  {
   "cell_type": "markdown",
   "metadata": {},
   "source": [
    "### Clearing up the Data\n",
    "\n",
    "As you go through the following exercises in this lab, you may find that the graph will get cluttered and make it hard to compare trainings against each other. When that happens, we suggest that you go into the `training_data` folder and remove files as you see fit. You can clear up everything in the directory with:"
   ]
  },
  {
   "cell_type": "code",
   "execution_count": null,
   "metadata": {},
   "outputs": [],
   "source": [
    "# Only run this if you want to delete all training data\n",
    "!rm -rf training_data/*"
   ]
  },
  {
   "cell_type": "markdown",
   "metadata": {},
   "source": [
    "Also note that if you run a second training session with all the same hyperparameters (and thus uses the same name for the CSV file) it will overwrite the original training file."
   ]
  },
  {
   "cell_type": "markdown",
   "metadata": {},
   "source": [
    "## Adjusting the Optimizer: Adding Momentum\n",
    "\n",
    "So far, we've modified our training by altering batch size, as well as distributing across multiple GPUs. We'll explore other hyperparameters, such as learning rate later in the lab. In this section, we'll explore another key tool in improving our training process: selecting and tuning the optimizer that we use. \n",
    "\n",
    "As you may recall in Lab 1, the optimizer updates the weights of the network in order to minimize the loss function. In the stochastic gradient descent optimizer that we've used so far, weights are updated based on their gradient with respect to the loss function of a mini-batch. In other words, we determine how altering a weight will affect the loss, and move a small step in the direction that minimizes that loss for the mini-batch. By taking those steps with each back-propagation, we slowly make our way toward a global minimum, decreasing our loss, and increasing our accuracy.\n",
    "\n",
    "Though this process works well, it can be improved upon. One downside is that if the network gets near a local minimum or saddle point, the gradient can be quite small, and the training will slow down in that area. The noise introduced by using minibatches might help the model find its way out, but it might take some time. \n",
    "\n",
    "Additionally, there may be areas where the algorithm keeps taking steps in roughly the same direction. It would be advantageous in those areas if the optimizer helped us take larger steps to move toward the global minimum faster.\n",
    "\n",
    "A good solution to these issues is to use momentum. Instead of the algorithm taking a small independent step each time, adding momentum to our optimizer allows the process to retain a memory of the last several steps. If the weights have been moving in a certain direction on average, momentum will help continue to propel the updates in the same direction. If the training is also fluctuating back and forth, it can smooth out this movement. A decent analogy is a ball rolling down a hill, which will pick up and retain momentum.\n",
    "\n",
    "### Implementation\n",
    "\n",
    "In this case implementing momentum is quite simple, as we do not have to alter the code of the optimizer. SGD algorithms will often accept a momentum parameter, as is the case in the PyTorch implementation.\n",
    "\n",
    "Step 1: Alter the argument parser to accept a momentum argument:\n",
    "\n",
    "```Python\n",
    "parser.add_argument('--momentum', type=float, default=0.9,\n",
    "                    help='SGD momentum')\n",
    "```\n",
    "\n",
    "Step 2: Pass the momentum into the optimizer:\n",
    "\n",
    "```Python\n",
    "optimizer = torch.optim.SGD(model.parameters(), lr=args.base_lr, momentum=args.momentum)\n",
    "```\n",
    "\n",
    "Step 3: Update the CSV filename to include the momentum hyperparameter:\n",
    "\n",
    "```Python\n",
    "data_filepath = \"training_data/{}ranks-{}bs-{}lr-{}m.csv\".format(WORLD_SIZE, args.batch_size, args.base_lr, args.momentum)\n",
    "```\n",
    "\n",
    "If you need any help, you can find the solution at `solutions/add_momentum.py`. Navigate to the `TODO: momentum` sections of fashion_mnist.py to make the three changes outlined above.\n",
    "\n",
    "### Training with Momentum\n",
    "\n",
    "Run the training again either for the same amount of time as before, or stopping at a certain accuracy using `--target-accuracy`. After the training completes, execute the plotting script to see the difference between training with and without momentum. "
   ]
  },
  {
   "cell_type": "code",
   "execution_count": null,
   "metadata": {
    "scrolled": true
   },
   "outputs": [],
   "source": [
    "!python3 fashion_mnist.py --num-gpus 4 --batch-size 32 --momentum .9"
   ]
  },
  {
   "cell_type": "code",
   "execution_count": null,
   "metadata": {},
   "outputs": [],
   "source": [
    "plot_trainings()"
   ]
  },
  {
   "cell_type": "markdown",
   "metadata": {},
   "source": [
    "<img src=\"./images/DLI_Header.png\">"
   ]
  }
 ],
 "metadata": {
  "jupytext": {
   "formats": "ipynb"
  },
  "kernelspec": {
   "display_name": "Python 3 (ipykernel)",
   "language": "python",
   "name": "python3"
  },
  "language_info": {
   "codemirror_mode": {
    "name": "ipython",
    "version": 3
   },
   "file_extension": ".py",
   "mimetype": "text/x-python",
   "name": "python",
   "nbconvert_exporter": "python",
   "pygments_lexer": "ipython3",
   "version": "3.8.13"
  },
  "output_auto_scroll": true
 },
 "nbformat": 4,
 "nbformat_minor": 4
}
